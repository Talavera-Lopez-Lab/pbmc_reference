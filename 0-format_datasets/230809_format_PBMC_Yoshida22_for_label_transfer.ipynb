{
 "cells": [
  {
   "attachments": {},
   "cell_type": "markdown",
   "metadata": {},
   "source": [
    "### Notebook to reformat the healthy PBMCs from [Yoshida 2022](https://www.nature.com/articles/s41586-021-04345-x) and ImYoo private data prior label transfer experiments.\n",
    "\n",
    "- **Developed by:** Carlos Talavera-López Ph.D\n",
    "- **Würzburg Institute for Systems Immunology & Julius-Maximilian-Universität Würzburg**\n",
    "- v230808"
   ]
  },
  {
   "attachments": {},
   "cell_type": "markdown",
   "metadata": {},
   "source": [
    "### Import required modules"
   ]
  },
  {
   "cell_type": "code",
   "execution_count": 1,
   "metadata": {},
   "outputs": [],
   "source": [
    "import anndata\n",
    "import numpy as np\n",
    "import scanpy as sc\n",
    "import pandas as pd\n",
    "import matplotlib.pyplot as plt"
   ]
  },
  {
   "attachments": {},
   "cell_type": "markdown",
   "metadata": {},
   "source": [
    "### Set up working environment"
   ]
  },
  {
   "cell_type": "code",
   "execution_count": 2,
   "metadata": {},
   "outputs": [
    {
     "name": "stdout",
     "output_type": "stream",
     "text": [
      "-----\n",
      "anndata     0.9.2\n",
      "scanpy      1.9.3\n",
      "-----\n",
      "PIL                 10.0.0\n",
      "appnope             0.1.3\n",
      "asttokens           NA\n",
      "backcall            0.2.0\n",
      "comm                0.1.3\n",
      "cycler              0.10.0\n",
      "cython_runtime      NA\n",
      "dateutil            2.8.2\n",
      "debugpy             1.6.7\n",
      "decorator           5.1.1\n",
      "executing           1.2.0\n",
      "h5py                3.9.0\n",
      "importlib_resources NA\n",
      "ipykernel           6.25.0\n",
      "ipywidgets          8.0.7\n",
      "jedi                0.18.2\n",
      "joblib              1.3.1\n",
      "kiwisolver          1.4.4\n",
      "llvmlite            0.40.1\n",
      "matplotlib          3.7.2\n",
      "mpl_toolkits        NA\n",
      "natsort             8.4.0\n",
      "numba               0.57.1\n",
      "numpy               1.24.4\n",
      "packaging           23.1\n",
      "pandas              2.0.3\n",
      "parso               0.8.3\n",
      "pexpect             4.8.0\n",
      "pickleshare         0.7.5\n",
      "pkg_resources       NA\n",
      "platformdirs        3.9.1\n",
      "prompt_toolkit      3.0.39\n",
      "psutil              5.9.5\n",
      "ptyprocess          0.7.0\n",
      "pure_eval           0.2.2\n",
      "pydev_ipython       NA\n",
      "pydevconsole        NA\n",
      "pydevd              2.9.5\n",
      "pydevd_file_utils   NA\n",
      "pydevd_plugins      NA\n",
      "pydevd_tracing      NA\n",
      "pygments            2.15.1\n",
      "pyparsing           3.0.9\n",
      "pytz                2023.3\n",
      "scipy               1.11.1\n",
      "session_info        1.0.0\n",
      "six                 1.16.0\n",
      "sklearn             1.3.0\n",
      "stack_data          0.6.2\n",
      "threadpoolctl       3.2.0\n",
      "tornado             6.3.2\n",
      "traitlets           5.9.0\n",
      "typing_extensions   NA\n",
      "wcwidth             0.2.6\n",
      "zipp                NA\n",
      "zmq                 25.1.0\n",
      "zoneinfo            NA\n",
      "-----\n",
      "IPython             8.14.0\n",
      "jupyter_client      8.3.0\n",
      "jupyter_core        5.3.1\n",
      "-----\n",
      "Python 3.9.16 | packaged by conda-forge | (main, Feb  1 2023, 21:38:11) [Clang 14.0.6 ]\n",
      "macOS-13.4.1-arm64-arm-64bit\n",
      "-----\n",
      "Session information updated at 2023-08-09 15:03\n"
     ]
    }
   ],
   "source": [
    "sc.settings.verbosity = 3\n",
    "sc.logging.print_versions()\n",
    "sc.settings.set_figure_params(dpi = 180, color_map = 'magma_r', dpi_save = 300, vector_friendly = True, format = 'svg')"
   ]
  },
  {
   "cell_type": "code",
   "execution_count": 3,
   "metadata": {},
   "outputs": [],
   "source": [
    "def X_is_raw(adata):\n",
    "    return np.array_equal(adata.X.sum(axis=0).astype(int), adata.X.sum(axis = 0))"
   ]
  },
  {
   "attachments": {},
   "cell_type": "markdown",
   "metadata": {},
   "source": [
    "### Read in `Yoshida M, 2022` Healthy data"
   ]
  },
  {
   "cell_type": "code",
   "execution_count": 4,
   "metadata": {},
   "outputs": [
    {
     "data": {
      "text/plain": [
       "AnnData object with n_obs × n_vars = 422220 × 33559\n",
       "    obs: 'orig.ident', 'nCount_RNA', 'nFeature_RNA', 'nCount_ADT', 'nFeature_ADT', 'Age_group', 'BMI', 'COVID_severity', 'COVID_status', 'Ethnicity', 'Group', 'Sex', 'Smoker', 'annotation_broad', 'annotation_detailed', 'annotation_detailed_fullNames', 'patient_id', 'sample_id', 'sequencing_library', 'Protein_modality_weight'\n",
       "    var: 'name'"
      ]
     },
     "execution_count": 4,
     "metadata": {},
     "output_type": "execute_result"
    }
   ],
   "source": [
    "yoshida_pbmc = sc.read_h5ad('../data/meyer_nikolic_covid_pbmc_raw.h5ad')\n",
    "yoshida_pbmc"
   ]
  },
  {
   "cell_type": "code",
   "execution_count": 5,
   "metadata": {},
   "outputs": [
    {
     "data": {
      "text/plain": [
       "True"
      ]
     },
     "execution_count": 5,
     "metadata": {},
     "output_type": "execute_result"
    }
   ],
   "source": [
    "X_is_raw(yoshida_pbmc)"
   ]
  },
  {
   "cell_type": "code",
   "execution_count": 6,
   "metadata": {},
   "outputs": [
    {
     "data": {
      "text/plain": [
       "Index(['COVID-19', 'Healthy', 'Post-COVID-19'], dtype='object')"
      ]
     },
     "execution_count": 6,
     "metadata": {},
     "output_type": "execute_result"
    }
   ],
   "source": [
    "yoshida_pbmc.obs['COVID_status'].cat.categories"
   ]
  },
  {
   "cell_type": "code",
   "execution_count": 7,
   "metadata": {},
   "outputs": [
    {
     "data": {
      "text/plain": [
       "Index(['HPC IFN stim', 'B n-sw mem IFN stim', 'B naive IFN stim',\n",
       "       'Monocyte CD16 IFN stim', 'Monocyte CD14 IFN stim', 'NK IFN stim',\n",
       "       'T CD8 CTL IFN stim', 'T CD4 naive IFN stim', 'RBC', 'Platelets',\n",
       "       'Cycling', 'Baso/Eos', 'HPC', 'Plasmablasts', 'Plasma cells', 'B invar',\n",
       "       'B sw mem', 'B n-sw mem', 'B naive', 'cDC2', 'cDC1', 'AS-DC', 'pDC',\n",
       "       'Monocyte CD16+C1', 'Monocyte CD16', 'Monocyte CD14 IL6',\n",
       "       'Monocyte CD14', 'ILC', 'NK CD56', 'NK', 'NKT', 'MAIT', 'T reg',\n",
       "       'T g/d', 'T CD8 CTL', 'T CD8 EMRA', 'T CD8 EM', 'T CD8 CM',\n",
       "       'T CD8 naive', 'T CD4 CTL', 'T CD4 helper', 'T CD4 naive'],\n",
       "      dtype='object')"
      ]
     },
     "execution_count": 7,
     "metadata": {},
     "output_type": "execute_result"
    }
   ],
   "source": [
    "yoshida_pbmc.obs['annotation_detailed'].cat.categories"
   ]
  },
  {
   "cell_type": "markdown",
   "metadata": {},
   "source": [
    "### Make covariates uniform"
   ]
  },
  {
   "cell_type": "code",
   "execution_count": 8,
   "metadata": {},
   "outputs": [
    {
     "name": "stderr",
     "output_type": "stream",
     "text": [
      "/var/folders/j1/l8rz6t7953z7vlpdytk0pbv40000gn/T/ipykernel_28846/3665903076.py:2: ImplicitModificationWarning: Trying to modify attribute `.obs` of view, initializing view as actual.\n",
      "  pbmc_healthy.obs['seed_labels'] = pbmc_healthy.obs['annotation_detailed'].copy()\n"
     ]
    },
    {
     "data": {
      "text/plain": [
       "AnnData object with n_obs × n_vars = 173684 × 33559\n",
       "    obs: 'orig.ident', 'nCount_RNA', 'nFeature_RNA', 'nCount_ADT', 'nFeature_ADT', 'Age_group', 'BMI', 'COVID_severity', 'COVID_status', 'Ethnicity', 'Group', 'Sex', 'Smoker', 'annotation_broad', 'annotation_detailed', 'annotation_detailed_fullNames', 'patient_id', 'sample_id', 'sequencing_library', 'Protein_modality_weight', 'seed_labels', 'donor', 'sample'\n",
       "    var: 'name'"
      ]
     },
     "execution_count": 8,
     "metadata": {},
     "output_type": "execute_result"
    }
   ],
   "source": [
    "pbmc_healthy = yoshida_pbmc[yoshida_pbmc.obs['COVID_status'].isin(['Healthy'])]\n",
    "pbmc_healthy.obs['seed_labels'] = pbmc_healthy.obs['annotation_detailed'].copy()\n",
    "pbmc_healthy.obs['donor'] = pbmc_healthy.obs['patient_id'].copy()\n",
    "pbmc_healthy.obs['sample'] = pbmc_healthy.obs['sample_id'].copy()\n",
    "pbmc_healthy"
   ]
  },
  {
   "cell_type": "code",
   "execution_count": 9,
   "metadata": {},
   "outputs": [
    {
     "data": {
      "text/plain": [
       "Index(['HPC IFN stim', 'B n-sw mem IFN stim', 'B naive IFN stim',\n",
       "       'Monocyte CD16 IFN stim', 'Monocyte CD14 IFN stim', 'NK IFN stim',\n",
       "       'T CD8 CTL IFN stim', 'T CD4 naive IFN stim', 'RBC', 'Platelets',\n",
       "       'Cycling', 'Baso/Eos', 'HPC', 'Plasmablasts', 'Plasma cells', 'B invar',\n",
       "       'B sw mem', 'B n-sw mem', 'B naive', 'cDC2', 'cDC1', 'AS-DC', 'pDC',\n",
       "       'Monocyte CD16+C1', 'Monocyte CD16', 'Monocyte CD14 IL6',\n",
       "       'Monocyte CD14', 'ILC', 'NK CD56', 'NK', 'NKT', 'MAIT', 'T reg',\n",
       "       'T g/d', 'T CD8 CTL', 'T CD8 EMRA', 'T CD8 EM', 'T CD8 CM',\n",
       "       'T CD8 naive', 'T CD4 CTL', 'T CD4 helper', 'T CD4 naive'],\n",
       "      dtype='object')"
      ]
     },
     "execution_count": 9,
     "metadata": {},
     "output_type": "execute_result"
    }
   ],
   "source": [
    "pbmc_healthy.obs['seed_labels'].cat.categories"
   ]
  },
  {
   "cell_type": "code",
   "execution_count": 10,
   "metadata": {},
   "outputs": [
    {
     "data": {
      "text/plain": [
       "Index(['HPC IFN stim', 'B n-sw mem IFN stim', 'B naive IFN stim',\n",
       "       'Monocyte CD16 IFN stim', 'Monocyte CD14 IFN stim', 'NK IFN stim',\n",
       "       'T CD8 CTL IFN stim', 'T CD4 naive IFN stim', 'RBC', 'Platelets',\n",
       "       'Cycling', 'Baso/Eos', 'HPC', 'Plasmablasts', 'Plasma cells', 'B invar',\n",
       "       'B sw mem', 'B n-sw mem', 'B naive', 'cDC2', 'cDC1', 'AS-DC', 'pDC',\n",
       "       'Monocyte CD16+C1', 'Monocyte CD16', 'Monocyte CD14 IL6',\n",
       "       'Monocyte CD14', 'ILC', 'NK CD56', 'NK', 'NKT', 'MAIT', 'T reg',\n",
       "       'T g/d', 'T CD8 CTL', 'T CD8 EMRA', 'T CD8 EM', 'T CD8 CM',\n",
       "       'T CD8 naive', 'T CD4 CTL', 'T CD4 helper', 'T CD4 naive'],\n",
       "      dtype='object')"
      ]
     },
     "execution_count": 10,
     "metadata": {},
     "output_type": "execute_result"
    }
   ],
   "source": [
    "pbmc_healthy.obs['cell_states'] = pbmc_healthy.obs['seed_labels'].copy()\n",
    "pbmc_healthy.obs['cell_states'].cat.categories"
   ]
  },
  {
   "attachments": {},
   "cell_type": "markdown",
   "metadata": {},
   "source": [
    "### Clean unused `adata.obs`"
   ]
  },
  {
   "cell_type": "code",
   "execution_count": 11,
   "metadata": {},
   "outputs": [
    {
     "data": {
      "text/plain": [
       "AnnData object with n_obs × n_vars = 173684 × 33559\n",
       "    obs: 'orig.ident', 'nCount_RNA', 'nFeature_RNA', 'nCount_ADT', 'nFeature_ADT', 'Age_group', 'BMI', 'COVID_severity', 'COVID_status', 'Ethnicity', 'Group', 'Sex', 'Smoker', 'annotation_broad', 'annotation_detailed', 'annotation_detailed_fullNames', 'patient_id', 'sample_id', 'sequencing_library', 'Protein_modality_weight', 'seed_labels', 'donor', 'sample', 'cell_states'\n",
       "    var: 'name'"
      ]
     },
     "execution_count": 11,
     "metadata": {},
     "output_type": "execute_result"
    }
   ],
   "source": [
    "pbmc_healthy"
   ]
  },
  {
   "cell_type": "code",
   "execution_count": 12,
   "metadata": {},
   "outputs": [
    {
     "data": {
      "text/plain": [
       "AnnData object with n_obs × n_vars = 173684 × 33559\n",
       "    obs: 'Sex', 'annotation_broad', 'annotation_detailed', 'sample_id', 'seed_labels', 'donor', 'cell_states'\n",
       "    var: 'name'"
      ]
     },
     "execution_count": 12,
     "metadata": {},
     "output_type": "execute_result"
    }
   ],
   "source": [
    "pbmc_healthy.obs = pbmc_healthy.obs[['Sex', 'annotation_broad', 'annotation_detailed', 'sample_id', 'seed_labels', 'donor', 'cell_states']]\n",
    "pbmc_healthy"
   ]
  },
  {
   "cell_type": "markdown",
   "metadata": {},
   "source": [
    "### Read and process `ImYoo` private PBMC data"
   ]
  },
  {
   "cell_type": "code",
   "execution_count": 13,
   "metadata": {},
   "outputs": [
    {
     "data": {
      "text/plain": [
       "AnnData object with n_obs × n_vars = 76535 × 36601\n",
       "    obs: 'barcode', 'Sample IDs', 'Participant IDs', 'Cell Barcoding Runs', 'Lane', 'extraction_protocol', 'sample_processing_delay_seconds', 'cell_barcoding_delay_days', 'cell_barcoding_protocol', 'run_lane_batch', 'cell_type_level_1', 'cell_type_level_2', 'cell_type_level_3', 'cell_type_level_4', 'c1', 'c2', 'c3', 'c4', 'original_sample_id'\n",
       "    var: 'name', 'id'\n",
       "    uns: '_scvi_manager_uuid', '_scvi_uuid', 'neighbors', 'tsne', 'umap'\n",
       "    obsm: 'X_mde', 'X_scvi', 'X_tsne', 'X_umap'\n",
       "    layers: 'counts'\n",
       "    obsp: 'connectivities', 'distances'"
      ]
     },
     "execution_count": 13,
     "metadata": {},
     "output_type": "execute_result"
    }
   ],
   "source": [
    "imyoo_pbmc = sc.read_h5ad('../data/imyoo_capillary_blood_samples_76535_pbmcs.h5ad')\n",
    "imyoo_pbmc"
   ]
  },
  {
   "cell_type": "code",
   "execution_count": 14,
   "metadata": {},
   "outputs": [
    {
     "data": {
      "text/plain": [
       "Index(['MIR1302-2HG', 'FAM138A', 'OR4F5', 'AL627309.1', 'AL627309.3',\n",
       "       'AL627309.2', 'AL627309.5', 'AL627309.4', 'AP006222.2', 'AL732372.1',\n",
       "       ...\n",
       "       'AC133551.1', 'AC136612.1', 'AC136616.1', 'AC136616.3', 'AC136616.2',\n",
       "       'AC141272.1', 'AC023491.2', 'AC007325.1', 'AC007325.4', 'AC007325.2'],\n",
       "      dtype='object', name='name', length=36601)"
      ]
     },
     "execution_count": 14,
     "metadata": {},
     "output_type": "execute_result"
    }
   ],
   "source": [
    "imyoo_pbmc.var_names = imyoo_pbmc.var['name'].astype(str)\n",
    "imyoo_pbmc.var_names = pd.Index(imyoo_pbmc.var_names)\n",
    "imyoo_pbmc.var_names_make_unique()\n",
    "imyoo_pbmc.var_names = imyoo_pbmc.var_names.astype(str)\n",
    "imyoo_pbmc.var_names"
   ]
  },
  {
   "cell_type": "code",
   "execution_count": 15,
   "metadata": {},
   "outputs": [
    {
     "data": {
      "text/plain": [
       "True"
      ]
     },
     "execution_count": 15,
     "metadata": {},
     "output_type": "execute_result"
    }
   ],
   "source": [
    "X_is_raw(imyoo_pbmc)"
   ]
  },
  {
   "cell_type": "code",
   "execution_count": 16,
   "metadata": {},
   "outputs": [
    {
     "data": {
      "text/plain": [
       "Index(['pDC', 'CD4 T Cells', 'Gamma-Delta T Cells', 'cDC2',\n",
       "       'Intermediate Monocytes', 'cDC3', 'CD56 Bright NK Cells', 'tumorDC',\n",
       "       'CLL-associated B Cells', 'Classical Memory B Cells',\n",
       "       'Mucosal-Associated Invariant T Cells', 'Plasma B Cells',\n",
       "       'CD56 Dim NK Cells', 'Classical Monocytes', 'CD8 T Cells',\n",
       "       'Nonclassical Monocytes', 'Naive B Cells', 'asDC', 'Mast Cells',\n",
       "       'IgM Memory B Cells', 'Classical Monocytes - HSP artifact',\n",
       "       'Age-associated B Cells', 'Adaptive NK Cells'],\n",
       "      dtype='object')"
      ]
     },
     "execution_count": 16,
     "metadata": {},
     "output_type": "execute_result"
    }
   ],
   "source": [
    "imyoo_pbmc.obs['cell_type_level_3'].cat.categories"
   ]
  },
  {
   "cell_type": "code",
   "execution_count": 17,
   "metadata": {},
   "outputs": [
    {
     "data": {
      "text/plain": [
       "AnnData object with n_obs × n_vars = 76535 × 36601\n",
       "    obs: 'barcode', 'Sample IDs', 'Participant IDs', 'Cell Barcoding Runs', 'Lane', 'extraction_protocol', 'sample_processing_delay_seconds', 'cell_barcoding_delay_days', 'cell_barcoding_protocol', 'run_lane_batch', 'cell_type_level_1', 'cell_type_level_2', 'cell_type_level_3', 'cell_type_level_4', 'c1', 'c2', 'c3', 'c4', 'original_sample_id', 'seed_labels', 'donor', 'sample'\n",
       "    var: 'name', 'id'\n",
       "    uns: '_scvi_manager_uuid', '_scvi_uuid', 'neighbors', 'tsne', 'umap'\n",
       "    obsm: 'X_mde', 'X_scvi', 'X_tsne', 'X_umap'\n",
       "    layers: 'counts'\n",
       "    obsp: 'connectivities', 'distances'"
      ]
     },
     "execution_count": 17,
     "metadata": {},
     "output_type": "execute_result"
    }
   ],
   "source": [
    "imyoo_pbmc.obs['seed_labels'] = imyoo_pbmc.obs['cell_type_level_3'].copy()\n",
    "imyoo_pbmc.obs['donor'] = imyoo_pbmc.obs['Participant IDs'].copy()\n",
    "imyoo_pbmc.obs['sample'] = imyoo_pbmc.obs['Sample IDs'].copy()\n",
    "imyoo_pbmc"
   ]
  },
  {
   "cell_type": "code",
   "execution_count": 18,
   "metadata": {},
   "outputs": [
    {
     "data": {
      "text/plain": [
       "Index(['pDC', 'CD4 T Cells', 'Gamma-Delta T Cells', 'cDC2',\n",
       "       'Intermediate Monocytes', 'cDC3', 'CD56 Bright NK Cells', 'tumorDC',\n",
       "       'CLL-associated B Cells', 'Classical Memory B Cells',\n",
       "       'Mucosal-Associated Invariant T Cells', 'Plasma B Cells',\n",
       "       'CD56 Dim NK Cells', 'Classical Monocytes', 'CD8 T Cells',\n",
       "       'Nonclassical Monocytes', 'Naive B Cells', 'asDC', 'Mast Cells',\n",
       "       'IgM Memory B Cells', 'Classical Monocytes - HSP artifact',\n",
       "       'Age-associated B Cells', 'Adaptive NK Cells'],\n",
       "      dtype='object')"
      ]
     },
     "execution_count": 18,
     "metadata": {},
     "output_type": "execute_result"
    }
   ],
   "source": [
    "imyoo_pbmc.obs['cell_states'] = imyoo_pbmc.obs['seed_labels'].copy()\n",
    "imyoo_pbmc.obs['cell_states'].cat.categories"
   ]
  },
  {
   "cell_type": "code",
   "execution_count": 19,
   "metadata": {},
   "outputs": [
    {
     "data": {
      "text/plain": [
       "AnnData object with n_obs × n_vars = 76535 × 36601\n",
       "    obs: 'barcode', 'Sample IDs', 'Participant IDs', 'Cell Barcoding Runs', 'Lane', 'extraction_protocol', 'sample_processing_delay_seconds', 'cell_barcoding_delay_days', 'cell_barcoding_protocol', 'run_lane_batch', 'cell_type_level_1', 'cell_type_level_2', 'cell_type_level_3', 'cell_type_level_4', 'c1', 'c2', 'c3', 'c4', 'original_sample_id', 'seed_labels', 'donor', 'sample', 'cell_states'\n",
       "    var: 'name', 'id'\n",
       "    uns: '_scvi_manager_uuid', '_scvi_uuid', 'neighbors', 'tsne', 'umap'\n",
       "    obsm: 'X_mde', 'X_scvi', 'X_tsne', 'X_umap'\n",
       "    layers: 'counts'\n",
       "    obsp: 'connectivities', 'distances'"
      ]
     },
     "execution_count": 19,
     "metadata": {},
     "output_type": "execute_result"
    }
   ],
   "source": [
    "imyoo_pbmc"
   ]
  },
  {
   "cell_type": "code",
   "execution_count": 20,
   "metadata": {},
   "outputs": [
    {
     "data": {
      "text/plain": [
       "AnnData object with n_obs × n_vars = 76535 × 36601\n",
       "    obs: 'cell_type_level_1', 'cell_type_level_2', 'cell_type_level_3', 'cell_type_level_4', 'seed_labels', 'donor', 'sample', 'cell_states'\n",
       "    var: 'name', 'id'\n",
       "    uns: '_scvi_manager_uuid', '_scvi_uuid', 'neighbors', 'tsne', 'umap'\n",
       "    obsm: 'X_mde', 'X_scvi', 'X_tsne', 'X_umap'\n",
       "    layers: 'counts'\n",
       "    obsp: 'connectivities', 'distances'"
      ]
     },
     "execution_count": 20,
     "metadata": {},
     "output_type": "execute_result"
    }
   ],
   "source": [
    "imyoo_pbmc.obs = imyoo_pbmc.obs[['cell_type_level_1', 'cell_type_level_2', 'cell_type_level_3', 'cell_type_level_4', 'seed_labels', 'donor', 'sample', 'cell_states']]\n",
    "imyoo_pbmc"
   ]
  },
  {
   "attachments": {},
   "cell_type": "markdown",
   "metadata": {},
   "source": [
    "### Make annotations uniform"
   ]
  },
  {
   "cell_type": "code",
   "execution_count": 21,
   "metadata": {},
   "outputs": [
    {
     "data": {
      "text/plain": [
       "Index(['pDC', 'CD4 T Cells', 'Gamma-Delta T Cells', 'cDC2',\n",
       "       'Intermediate Monocytes', 'cDC3', 'CD56 Bright NK Cells', 'tumorDC',\n",
       "       'CLL-associated B Cells', 'Classical Memory B Cells',\n",
       "       'Mucosal-Associated Invariant T Cells', 'Plasma B Cells',\n",
       "       'CD56 Dim NK Cells', 'Classical Monocytes', 'CD8 T Cells',\n",
       "       'Nonclassical Monocytes', 'Naive B Cells', 'asDC', 'Mast Cells',\n",
       "       'IgM Memory B Cells', 'Classical Monocytes - HSP artifact',\n",
       "       'Age-associated B Cells', 'Adaptive NK Cells'],\n",
       "      dtype='object')"
      ]
     },
     "execution_count": 21,
     "metadata": {},
     "output_type": "execute_result"
    }
   ],
   "source": [
    "imyoo_pbmc.obs['cell_states'].cat.categories"
   ]
  },
  {
   "cell_type": "code",
   "execution_count": 22,
   "metadata": {},
   "outputs": [
    {
     "data": {
      "text/plain": [
       "Index(['pDC', 'CD4+T', 'gdT', 'cDC2', 'CD14+CD16+Monocytes', 'cDC3', 'CD56+NK',\n",
       "       'tumorDC', 'CLL-associated_B', 'class_memB', 'muco_invarT', 'plasma_B',\n",
       "       'CD56_dimNK', 'CD14+Monocytes', 'CD8+T', 'CD16+Monocytes', 'naive_B',\n",
       "       'asDC', 'Mast', 'IgM_memB', 'CD14+Monocytes-HSP_artifact', 'Ageing_B',\n",
       "       'adaptive_NK'],\n",
       "      dtype='object')"
      ]
     },
     "execution_count": 22,
     "metadata": {},
     "output_type": "execute_result"
    }
   ],
   "source": [
    "imyoo_pbmc.obs['cell_states'] = imyoo_pbmc.obs['cell_states'].cat.rename_categories(['pDC', 'CD4+T', 'gdT', 'cDC2',\n",
    "       'CD14+CD16+Monocytes', 'cDC3', 'CD56+NK', 'tumorDC',\n",
    "       'CLL-associated_B', 'class_memB',\n",
    "       'muco_invarT', 'plasma_B',\n",
    "       'CD56_dimNK', 'CD14+Monocytes', 'CD8+T',\n",
    "       'CD16+Monocytes', 'naive_B', 'asDC', 'Mast',\n",
    "       'IgM_memB', 'CD14+Monocytes-HSP_artifact',\n",
    "       'Ageing_B', 'adaptive_NK'])\n",
    "imyoo_pbmc.obs['cell_states'].cat.categories"
   ]
  },
  {
   "cell_type": "code",
   "execution_count": 23,
   "metadata": {},
   "outputs": [
    {
     "data": {
      "text/plain": [
       "Index(['HPC IFN stim', 'B n-sw mem IFN stim', 'B naive IFN stim',\n",
       "       'Monocyte CD16 IFN stim', 'Monocyte CD14 IFN stim', 'NK IFN stim',\n",
       "       'T CD8 CTL IFN stim', 'T CD4 naive IFN stim', 'RBC', 'Platelets',\n",
       "       'Cycling', 'Baso/Eos', 'HPC', 'Plasmablasts', 'Plasma cells', 'B invar',\n",
       "       'B sw mem', 'B n-sw mem', 'B naive', 'cDC2', 'cDC1', 'AS-DC', 'pDC',\n",
       "       'Monocyte CD16+C1', 'Monocyte CD16', 'Monocyte CD14 IL6',\n",
       "       'Monocyte CD14', 'ILC', 'NK CD56', 'NK', 'NKT', 'MAIT', 'T reg',\n",
       "       'T g/d', 'T CD8 CTL', 'T CD8 EMRA', 'T CD8 EM', 'T CD8 CM',\n",
       "       'T CD8 naive', 'T CD4 CTL', 'T CD4 helper', 'T CD4 naive'],\n",
       "      dtype='object')"
      ]
     },
     "execution_count": 23,
     "metadata": {},
     "output_type": "execute_result"
    }
   ],
   "source": [
    "pbmc_healthy.obs['cell_states'].cat.categories"
   ]
  },
  {
   "cell_type": "code",
   "execution_count": 24,
   "metadata": {},
   "outputs": [
    {
     "data": {
      "text/plain": [
       "Index(['IFN-stim_HPC', 'IFN-stim_n-sw_memB', 'IFN-stim_naive_B',\n",
       "       'IFN-stim_CD16+Monocyte', 'IFN-stim_CD14+Monocyte', 'IFN-stim_NK',\n",
       "       'IFN-stim_ctlCD8+T', 'IFN-stim_naiveCD4+T', 'RBC', 'platelets',\n",
       "       'cycling', 'Baso/Eos', 'HPC', 'plasmablasts', 'plasma_B', 'invarB',\n",
       "       'sw_memB', 'n-sw_memB', 'naive_B', 'cDC2', 'cDC1', 'AS-DC', 'pDC',\n",
       "       'CD16+C1+Monocyte', 'CD16+Monocyte', ' CD14+IL6+Monocyte',\n",
       "       'CD14+Monocyte', 'ILC', 'CD56+NK', 'NK', 'NKT', 'MAIT', 'regT', 'gdT',\n",
       "       'ctlCD8+T', 'emraCD8+T', 'emCD8+T', 'cmCD8+T', 'naiveCD8+T',\n",
       "       'ctlCD4+T  ', ' hCD4+T ', 'naiveCD4+T'],\n",
       "      dtype='object')"
      ]
     },
     "execution_count": 24,
     "metadata": {},
     "output_type": "execute_result"
    }
   ],
   "source": [
    "pbmc_healthy.obs['cell_states'] = pbmc_healthy.obs['cell_states'].cat.rename_categories(['IFN-stim_HPC', 'IFN-stim_n-sw_memB', 'IFN-stim_naive_B',\n",
    "       'IFN-stim_CD16+Monocyte', 'IFN-stim_CD14+Monocyte', 'IFN-stim_NK',\n",
    "       'IFN-stim_ctlCD8+T', 'IFN-stim_naiveCD4+T', 'RBC', 'platelets',\n",
    "       'cycling', 'Baso/Eos', 'HPC', 'plasmablasts', 'plasma_B', 'invarB',\n",
    "       'sw_memB', 'n-sw_memB', 'naive_B', 'cDC2', 'cDC1', 'AS-DC', 'pDC',\n",
    "       'CD16+C1+Monocyte', 'CD16+Monocyte', ' CD14+IL6+Monocyte',\n",
    "       'CD14+Monocyte', 'ILC', 'CD56+NK', 'NK', 'NKT', 'MAIT', 'regT',\n",
    "       'gdT', 'ctlCD8+T', 'emraCD8+T', 'emCD8+T', 'cmCD8+T',\n",
    "       'naiveCD8+T', 'ctlCD4+T  ', ' hCD4+T ', 'naiveCD4+T'])\n",
    "pbmc_healthy.obs['cell_states'].cat.categories"
   ]
  },
  {
   "cell_type": "markdown",
   "metadata": {},
   "source": [
    "### Merge objects"
   ]
  },
  {
   "cell_type": "code",
   "execution_count": 25,
   "metadata": {},
   "outputs": [
    {
     "name": "stderr",
     "output_type": "stream",
     "text": [
      "/Users/cartalop/mambaforge/envs/scanpy/lib/python3.9/site-packages/anndata/_core/anndata.py:1763: FutureWarning: The AnnData.concatenate method is deprecated in favour of the anndata.concat function. Please use anndata.concat instead.\n",
      "\n",
      "See the tutorial for concat at: https://anndata.readthedocs.io/en/latest/concatenation.html\n",
      "  warnings.warn(\n"
     ]
    },
    {
     "data": {
      "text/plain": [
       "AnnData object with n_obs × n_vars = 250219 × 31908\n",
       "    obs: 'Sex', 'annotation_broad', 'annotation_detailed', 'sample_id', 'seed_labels', 'donor', 'cell_states', 'cell_type_level_1', 'cell_type_level_2', 'cell_type_level_3', 'cell_type_level_4', 'sample', 'generator'\n",
       "    var: 'name-ImYoo_2023', 'id-ImYoo_2023', 'name-YoshidaM_2022'"
      ]
     },
     "execution_count": 25,
     "metadata": {},
     "output_type": "execute_result"
    }
   ],
   "source": [
    "adata = pbmc_healthy.concatenate(imyoo_pbmc, batch_key = 'generator', batch_categories = ['YoshidaM_2022', 'ImYoo_2023'], join = 'inner')\n",
    "adata"
   ]
  },
  {
   "cell_type": "raw",
   "metadata": {},
   "source": [
    "del(adata.obs['Sex'])\n",
    "del(adata.obs['annotation_detailed'])\n",
    "del(adata.obs['annotation_broad'])\n",
    "del(adata.obs['sample_id'])\n",
    "del(adata.obs['cell_type_level_1'])\n",
    "del(adata.obs['cell_type_level_2'])\n",
    "del(adata.obs['cell_type_level_3'])\n",
    "del(adata.obs['cell_type_level_4'])"
   ]
  },
  {
   "cell_type": "code",
   "execution_count": 26,
   "metadata": {},
   "outputs": [
    {
     "data": {
      "text/plain": [
       "AnnData object with n_obs × n_vars = 250219 × 31908\n",
       "    obs: 'Sex', 'annotation_broad', 'annotation_detailed', 'sample_id', 'seed_labels', 'donor', 'cell_states', 'cell_type_level_1', 'cell_type_level_2', 'cell_type_level_3', 'cell_type_level_4', 'sample', 'generator'\n",
       "    var: 'name-ImYoo_2023', 'id-ImYoo_2023', 'name-YoshidaM_2022'"
      ]
     },
     "execution_count": 26,
     "metadata": {},
     "output_type": "execute_result"
    }
   ],
   "source": [
    "adata"
   ]
  },
  {
   "cell_type": "code",
   "execution_count": 27,
   "metadata": {},
   "outputs": [
    {
     "data": {
      "text/plain": [
       "Index(['AS-DC', 'Adaptive NK Cells', 'Age-associated B Cells', 'B invar',\n",
       "       'B n-sw mem', 'B n-sw mem IFN stim', 'B naive', 'B naive IFN stim',\n",
       "       'B sw mem', 'Baso/Eos', 'CD4 T Cells', 'CD8 T Cells',\n",
       "       'CD56 Bright NK Cells', 'CD56 Dim NK Cells', 'CLL-associated B Cells',\n",
       "       'Classical Memory B Cells', 'Classical Monocytes',\n",
       "       'Classical Monocytes - HSP artifact', 'Cycling', 'Gamma-Delta T Cells',\n",
       "       'HPC', 'HPC IFN stim', 'ILC', 'IgM Memory B Cells',\n",
       "       'Intermediate Monocytes', 'MAIT', 'Mast Cells', 'Monocyte CD14',\n",
       "       'Monocyte CD14 IFN stim', 'Monocyte CD14 IL6', 'Monocyte CD16',\n",
       "       'Monocyte CD16 IFN stim', 'Monocyte CD16+C1',\n",
       "       'Mucosal-Associated Invariant T Cells', 'NK', 'NK CD56', 'NK IFN stim',\n",
       "       'NKT', 'Naive B Cells', 'Nonclassical Monocytes', 'Plasma B Cells',\n",
       "       'Plasma cells', 'Plasmablasts', 'Platelets', 'RBC', 'T CD4 CTL',\n",
       "       'T CD4 helper', 'T CD4 naive', 'T CD4 naive IFN stim', 'T CD8 CM',\n",
       "       'T CD8 CTL', 'T CD8 CTL IFN stim', 'T CD8 EM', 'T CD8 EMRA',\n",
       "       'T CD8 naive', 'T g/d', 'T reg', 'asDC', 'cDC1', 'cDC2', 'cDC3', 'pDC',\n",
       "       'tumorDC'],\n",
       "      dtype='object')"
      ]
     },
     "execution_count": 27,
     "metadata": {},
     "output_type": "execute_result"
    }
   ],
   "source": [
    "adata.obs['seed_labels'] = adata.obs['seed_labels'].astype('category')\n",
    "adata.obs['seed_labels'].cat.categories"
   ]
  },
  {
   "cell_type": "code",
   "execution_count": 28,
   "metadata": {},
   "outputs": [
    {
     "data": {
      "text/plain": [
       "Index([' CD14+IL6+Monocyte', ' hCD4+T ', 'AS-DC', 'Ageing_B', 'Baso/Eos',\n",
       "       'CD4+T', 'CD8+T', 'CD14+CD16+Monocytes', 'CD14+Monocyte',\n",
       "       'CD14+Monocytes', 'CD14+Monocytes-HSP_artifact', 'CD16+C1+Monocyte',\n",
       "       'CD16+Monocyte', 'CD16+Monocytes', 'CD56+NK', 'CD56_dimNK',\n",
       "       'CLL-associated_B', 'HPC', 'IFN-stim_CD14+Monocyte',\n",
       "       'IFN-stim_CD16+Monocyte', 'IFN-stim_HPC', 'IFN-stim_NK',\n",
       "       'IFN-stim_ctlCD8+T', 'IFN-stim_n-sw_memB', 'IFN-stim_naiveCD4+T',\n",
       "       'IFN-stim_naive_B', 'ILC', 'IgM_memB', 'MAIT', 'Mast', 'NK', 'NKT',\n",
       "       'RBC', 'adaptive_NK', 'asDC', 'cDC1', 'cDC2', 'cDC3', 'class_memB',\n",
       "       'cmCD8+T', 'ctlCD4+T  ', 'ctlCD8+T', 'cycling', 'emCD8+T', 'emraCD8+T',\n",
       "       'gdT', 'invarB', 'muco_invarT', 'n-sw_memB', 'naiveCD4+T', 'naiveCD8+T',\n",
       "       'naive_B', 'pDC', 'plasma_B', 'plasmablasts', 'platelets', 'regT',\n",
       "       'sw_memB', 'tumorDC'],\n",
       "      dtype='object')"
      ]
     },
     "execution_count": 28,
     "metadata": {},
     "output_type": "execute_result"
    }
   ],
   "source": [
    "adata.obs['cell_states'] = adata.obs['cell_states'].astype('category')\n",
    "adata.obs['cell_states'].cat.categories"
   ]
  },
  {
   "cell_type": "code",
   "execution_count": 29,
   "metadata": {},
   "outputs": [
    {
     "data": {
      "text/plain": [
       "Index(['1004.0', '1005.0', '1071.0', '1072.0', '1170.0', '1171.0', '1176.0',\n",
       "       '1177.0', '1382.0', '1385.0', '1394.0', '1395.0', '20.0', '329.0',\n",
       "       '424.0', '892.0', '894.0', '909.0', '911.0', '95.0', '952.0', '953.0',\n",
       "       '958.0', '959.0', '970.0', '971.0', '977.0', '978.0', 'nan'],\n",
       "      dtype='object')"
      ]
     },
     "execution_count": 29,
     "metadata": {},
     "output_type": "execute_result"
    }
   ],
   "source": [
    "adata.obs['sample'] = adata.obs['sample'].astype(str).astype('category')\n",
    "adata.obs['sample'].cat.categories"
   ]
  },
  {
   "cell_type": "code",
   "execution_count": 30,
   "metadata": {},
   "outputs": [
    {
     "data": {
      "text/plain": [
       "Index(['YoshidaM_2022', 'ImYoo_2023'], dtype='object')"
      ]
     },
     "execution_count": 30,
     "metadata": {},
     "output_type": "execute_result"
    }
   ],
   "source": [
    "adata.obs['generator'] = adata.obs['generator'].astype('category')\n",
    "adata.obs['generator'].cat.categories"
   ]
  },
  {
   "cell_type": "code",
   "execution_count": 31,
   "metadata": {},
   "outputs": [
    {
     "data": {
      "text/plain": [
       "Index([     2,      3,     51,  'AN1', 'AN11', 'AN12', 'AN13', 'AN14',  'AN2',\n",
       "        'AN3',  'AN5',  'AN6',  'AN7',  'AN9', 'NP13', 'NP15', 'NP16', 'NP17',\n",
       "       'NP18', 'NP19', 'NP20', 'NP21', 'NP22', 'NP23', 'NP24', 'NP26', 'NP27',\n",
       "       'NP28', 'NP30', 'NP31', 'NP32', 'NP35', 'NP36', 'NP37', 'NP38', 'NP39',\n",
       "       'NP41', 'NP44'],\n",
       "      dtype='object')"
      ]
     },
     "execution_count": 31,
     "metadata": {},
     "output_type": "execute_result"
    }
   ],
   "source": [
    "adata.obs['donor'] = adata.obs['donor'].astype('category')\n",
    "adata.obs['donor'].cat.categories"
   ]
  },
  {
   "cell_type": "code",
   "execution_count": 32,
   "metadata": {},
   "outputs": [
    {
     "data": {
      "text/plain": [
       "Index([' CD14+IL6+Monocyte', ' hCD4+T ', 'AS-DC', 'Ageing_B', 'Baso/Eos',\n",
       "       'CD4+T', 'CD8+T', 'CD14+CD16+Monocytes', 'CD14+Monocyte',\n",
       "       'CD14+Monocytes', 'CD14+Monocytes-HSP_artifact', 'CD16+C1+Monocyte',\n",
       "       'CD16+Monocyte', 'CD16+Monocytes', 'CD56+NK', 'CD56_dimNK',\n",
       "       'CLL-associated_B', 'HPC', 'IFN-stim_CD14+Monocyte',\n",
       "       'IFN-stim_CD16+Monocyte', 'IFN-stim_HPC', 'IFN-stim_NK',\n",
       "       'IFN-stim_ctlCD8+T', 'IFN-stim_n-sw_memB', 'IFN-stim_naiveCD4+T',\n",
       "       'IFN-stim_naive_B', 'ILC', 'IgM_memB', 'MAIT', 'Mast', 'NK', 'NKT',\n",
       "       'RBC', 'adaptive_NK', 'asDC', 'cDC1', 'cDC2', 'cDC3', 'class_memB',\n",
       "       'cmCD8+T', 'ctlCD4+T  ', 'ctlCD8+T', 'cycling', 'emCD8+T', 'emraCD8+T',\n",
       "       'gdT', 'invarB', 'muco_invarT', 'n-sw_memB', 'naiveCD4+T', 'naiveCD8+T',\n",
       "       'naive_B', 'pDC', 'plasma_B', 'plasmablasts', 'platelets', 'regT',\n",
       "       'sw_memB', 'tumorDC'],\n",
       "      dtype='object')"
      ]
     },
     "execution_count": 32,
     "metadata": {},
     "output_type": "execute_result"
    }
   ],
   "source": [
    "adata.obs['cell_states'].cat.categories"
   ]
  },
  {
   "cell_type": "code",
   "execution_count": 37,
   "metadata": {},
   "outputs": [],
   "source": [
    "for col in adata.obs.columns:\n",
    "    if pd.api.types.is_categorical_dtype(adata.obs[col]):\n",
    "        adata.obs[col] = adata.obs[col].astype(str)"
   ]
  },
  {
   "cell_type": "code",
   "execution_count": 38,
   "metadata": {},
   "outputs": [],
   "source": [
    "for col in adata.var.columns:\n",
    "    if pd.api.types.is_categorical_dtype(adata.var[col]):\n",
    "        adata.var[col] = adata.var[col].astype(str)\n"
   ]
  },
  {
   "cell_type": "code",
   "execution_count": 39,
   "metadata": {},
   "outputs": [
    {
     "data": {
      "text/plain": [
       "True"
      ]
     },
     "execution_count": 39,
     "metadata": {},
     "output_type": "execute_result"
    }
   ],
   "source": [
    "X_is_raw(adata)"
   ]
  },
  {
   "cell_type": "code",
   "execution_count": 42,
   "metadata": {},
   "outputs": [
    {
     "data": {
      "text/html": [
       "<div>\n",
       "<style scoped>\n",
       "    .dataframe tbody tr th:only-of-type {\n",
       "        vertical-align: middle;\n",
       "    }\n",
       "\n",
       "    .dataframe tbody tr th {\n",
       "        vertical-align: top;\n",
       "    }\n",
       "\n",
       "    .dataframe thead th {\n",
       "        text-align: right;\n",
       "    }\n",
       "</style>\n",
       "<table border=\"1\" class=\"dataframe\">\n",
       "  <thead>\n",
       "    <tr style=\"text-align: right;\">\n",
       "      <th></th>\n",
       "      <th>Sex</th>\n",
       "      <th>annotation_broad</th>\n",
       "      <th>annotation_detailed</th>\n",
       "      <th>sample_id</th>\n",
       "      <th>seed_labels</th>\n",
       "      <th>donor</th>\n",
       "      <th>cell_states</th>\n",
       "      <th>cell_type_level_1</th>\n",
       "      <th>cell_type_level_2</th>\n",
       "      <th>cell_type_level_3</th>\n",
       "      <th>cell_type_level_4</th>\n",
       "      <th>sample</th>\n",
       "      <th>generator</th>\n",
       "    </tr>\n",
       "  </thead>\n",
       "  <tbody>\n",
       "    <tr>\n",
       "      <th>CV001_KM10202384-CV001_KM10202394_AAACCTGAGGCAGGTT-1-YoshidaM_2022</th>\n",
       "      <td>Female</td>\n",
       "      <td>Monocyte</td>\n",
       "      <td>Monocyte CD14</td>\n",
       "      <td>AN5</td>\n",
       "      <td>Monocyte CD14</td>\n",
       "      <td>AN5</td>\n",
       "      <td>CD14+Monocyte</td>\n",
       "      <td>nan</td>\n",
       "      <td>nan</td>\n",
       "      <td>nan</td>\n",
       "      <td>nan</td>\n",
       "      <td>nan</td>\n",
       "      <td>YoshidaM_2022</td>\n",
       "    </tr>\n",
       "    <tr>\n",
       "      <th>CV001_KM10202384-CV001_KM10202394_AAACCTGAGTGTCCCG-1-YoshidaM_2022</th>\n",
       "      <td>Female</td>\n",
       "      <td>T CD4+</td>\n",
       "      <td>T CD4 helper</td>\n",
       "      <td>AN5</td>\n",
       "      <td>T CD4 helper</td>\n",
       "      <td>AN5</td>\n",
       "      <td>hCD4+T</td>\n",
       "      <td>nan</td>\n",
       "      <td>nan</td>\n",
       "      <td>nan</td>\n",
       "      <td>nan</td>\n",
       "      <td>nan</td>\n",
       "      <td>YoshidaM_2022</td>\n",
       "    </tr>\n",
       "    <tr>\n",
       "      <th>CV001_KM10202384-CV001_KM10202394_AAACCTGCAGATGGGT-1-YoshidaM_2022</th>\n",
       "      <td>Male</td>\n",
       "      <td>T CD4+</td>\n",
       "      <td>T CD4 helper</td>\n",
       "      <td>AN3</td>\n",
       "      <td>T CD4 helper</td>\n",
       "      <td>AN3</td>\n",
       "      <td>hCD4+T</td>\n",
       "      <td>nan</td>\n",
       "      <td>nan</td>\n",
       "      <td>nan</td>\n",
       "      <td>nan</td>\n",
       "      <td>nan</td>\n",
       "      <td>YoshidaM_2022</td>\n",
       "    </tr>\n",
       "    <tr>\n",
       "      <th>CV001_KM10202384-CV001_KM10202394_AAACCTGGTATAGTAG-1-YoshidaM_2022</th>\n",
       "      <td>Female</td>\n",
       "      <td>T CD8+</td>\n",
       "      <td>T CD8 naive</td>\n",
       "      <td>AN5</td>\n",
       "      <td>T CD8 naive</td>\n",
       "      <td>AN5</td>\n",
       "      <td>naiveCD8+T</td>\n",
       "      <td>nan</td>\n",
       "      <td>nan</td>\n",
       "      <td>nan</td>\n",
       "      <td>nan</td>\n",
       "      <td>nan</td>\n",
       "      <td>YoshidaM_2022</td>\n",
       "    </tr>\n",
       "    <tr>\n",
       "      <th>CV001_KM10202384-CV001_KM10202394_AAACCTGGTGTGCGTC-1-YoshidaM_2022</th>\n",
       "      <td>Female</td>\n",
       "      <td>T CD4+</td>\n",
       "      <td>T CD4 naive</td>\n",
       "      <td>AN5</td>\n",
       "      <td>T CD4 naive</td>\n",
       "      <td>AN5</td>\n",
       "      <td>naiveCD4+T</td>\n",
       "      <td>nan</td>\n",
       "      <td>nan</td>\n",
       "      <td>nan</td>\n",
       "      <td>nan</td>\n",
       "      <td>nan</td>\n",
       "      <td>YoshidaM_2022</td>\n",
       "    </tr>\n",
       "  </tbody>\n",
       "</table>\n",
       "</div>"
      ],
      "text/plain": [
       "                                                       Sex annotation_broad  \\\n",
       "CV001_KM10202384-CV001_KM10202394_AAACCTGAGGCAG...  Female         Monocyte   \n",
       "CV001_KM10202384-CV001_KM10202394_AAACCTGAGTGTC...  Female           T CD4+   \n",
       "CV001_KM10202384-CV001_KM10202394_AAACCTGCAGATG...    Male           T CD4+   \n",
       "CV001_KM10202384-CV001_KM10202394_AAACCTGGTATAG...  Female           T CD8+   \n",
       "CV001_KM10202384-CV001_KM10202394_AAACCTGGTGTGC...  Female           T CD4+   \n",
       "\n",
       "                                                   annotation_detailed  \\\n",
       "CV001_KM10202384-CV001_KM10202394_AAACCTGAGGCAG...       Monocyte CD14   \n",
       "CV001_KM10202384-CV001_KM10202394_AAACCTGAGTGTC...        T CD4 helper   \n",
       "CV001_KM10202384-CV001_KM10202394_AAACCTGCAGATG...        T CD4 helper   \n",
       "CV001_KM10202384-CV001_KM10202394_AAACCTGGTATAG...         T CD8 naive   \n",
       "CV001_KM10202384-CV001_KM10202394_AAACCTGGTGTGC...         T CD4 naive   \n",
       "\n",
       "                                                   sample_id    seed_labels  \\\n",
       "CV001_KM10202384-CV001_KM10202394_AAACCTGAGGCAG...       AN5  Monocyte CD14   \n",
       "CV001_KM10202384-CV001_KM10202394_AAACCTGAGTGTC...       AN5   T CD4 helper   \n",
       "CV001_KM10202384-CV001_KM10202394_AAACCTGCAGATG...       AN3   T CD4 helper   \n",
       "CV001_KM10202384-CV001_KM10202394_AAACCTGGTATAG...       AN5    T CD8 naive   \n",
       "CV001_KM10202384-CV001_KM10202394_AAACCTGGTGTGC...       AN5    T CD4 naive   \n",
       "\n",
       "                                                   donor    cell_states  \\\n",
       "CV001_KM10202384-CV001_KM10202394_AAACCTGAGGCAG...   AN5  CD14+Monocyte   \n",
       "CV001_KM10202384-CV001_KM10202394_AAACCTGAGTGTC...   AN5        hCD4+T    \n",
       "CV001_KM10202384-CV001_KM10202394_AAACCTGCAGATG...   AN3        hCD4+T    \n",
       "CV001_KM10202384-CV001_KM10202394_AAACCTGGTATAG...   AN5     naiveCD8+T   \n",
       "CV001_KM10202384-CV001_KM10202394_AAACCTGGTGTGC...   AN5     naiveCD4+T   \n",
       "\n",
       "                                                   cell_type_level_1  \\\n",
       "CV001_KM10202384-CV001_KM10202394_AAACCTGAGGCAG...               nan   \n",
       "CV001_KM10202384-CV001_KM10202394_AAACCTGAGTGTC...               nan   \n",
       "CV001_KM10202384-CV001_KM10202394_AAACCTGCAGATG...               nan   \n",
       "CV001_KM10202384-CV001_KM10202394_AAACCTGGTATAG...               nan   \n",
       "CV001_KM10202384-CV001_KM10202394_AAACCTGGTGTGC...               nan   \n",
       "\n",
       "                                                   cell_type_level_2  \\\n",
       "CV001_KM10202384-CV001_KM10202394_AAACCTGAGGCAG...               nan   \n",
       "CV001_KM10202384-CV001_KM10202394_AAACCTGAGTGTC...               nan   \n",
       "CV001_KM10202384-CV001_KM10202394_AAACCTGCAGATG...               nan   \n",
       "CV001_KM10202384-CV001_KM10202394_AAACCTGGTATAG...               nan   \n",
       "CV001_KM10202384-CV001_KM10202394_AAACCTGGTGTGC...               nan   \n",
       "\n",
       "                                                   cell_type_level_3  \\\n",
       "CV001_KM10202384-CV001_KM10202394_AAACCTGAGGCAG...               nan   \n",
       "CV001_KM10202384-CV001_KM10202394_AAACCTGAGTGTC...               nan   \n",
       "CV001_KM10202384-CV001_KM10202394_AAACCTGCAGATG...               nan   \n",
       "CV001_KM10202384-CV001_KM10202394_AAACCTGGTATAG...               nan   \n",
       "CV001_KM10202384-CV001_KM10202394_AAACCTGGTGTGC...               nan   \n",
       "\n",
       "                                                   cell_type_level_4 sample  \\\n",
       "CV001_KM10202384-CV001_KM10202394_AAACCTGAGGCAG...               nan    nan   \n",
       "CV001_KM10202384-CV001_KM10202394_AAACCTGAGTGTC...               nan    nan   \n",
       "CV001_KM10202384-CV001_KM10202394_AAACCTGCAGATG...               nan    nan   \n",
       "CV001_KM10202384-CV001_KM10202394_AAACCTGGTATAG...               nan    nan   \n",
       "CV001_KM10202384-CV001_KM10202394_AAACCTGGTGTGC...               nan    nan   \n",
       "\n",
       "                                                        generator  \n",
       "CV001_KM10202384-CV001_KM10202394_AAACCTGAGGCAG...  YoshidaM_2022  \n",
       "CV001_KM10202384-CV001_KM10202394_AAACCTGAGTGTC...  YoshidaM_2022  \n",
       "CV001_KM10202384-CV001_KM10202394_AAACCTGCAGATG...  YoshidaM_2022  \n",
       "CV001_KM10202384-CV001_KM10202394_AAACCTGGTATAG...  YoshidaM_2022  \n",
       "CV001_KM10202384-CV001_KM10202394_AAACCTGGTGTGC...  YoshidaM_2022  "
      ]
     },
     "execution_count": 42,
     "metadata": {},
     "output_type": "execute_result"
    }
   ],
   "source": [
    "adata.obs.head()"
   ]
  },
  {
   "cell_type": "code",
   "execution_count": 43,
   "metadata": {},
   "outputs": [
    {
     "data": {
      "text/html": [
       "<div>\n",
       "<style scoped>\n",
       "    .dataframe tbody tr th:only-of-type {\n",
       "        vertical-align: middle;\n",
       "    }\n",
       "\n",
       "    .dataframe tbody tr th {\n",
       "        vertical-align: top;\n",
       "    }\n",
       "\n",
       "    .dataframe thead th {\n",
       "        text-align: right;\n",
       "    }\n",
       "</style>\n",
       "<table border=\"1\" class=\"dataframe\">\n",
       "  <thead>\n",
       "    <tr style=\"text-align: right;\">\n",
       "      <th></th>\n",
       "      <th>name-ImYoo_2023</th>\n",
       "      <th>id-ImYoo_2023</th>\n",
       "      <th>name-YoshidaM_2022</th>\n",
       "    </tr>\n",
       "  </thead>\n",
       "  <tbody>\n",
       "    <tr>\n",
       "      <th>MIR1302-2HG</th>\n",
       "      <td>MIR1302-2HG</td>\n",
       "      <td>ENSG00000243485</td>\n",
       "      <td>MIR1302-2HG</td>\n",
       "    </tr>\n",
       "    <tr>\n",
       "      <th>FAM138A</th>\n",
       "      <td>FAM138A</td>\n",
       "      <td>ENSG00000237613</td>\n",
       "      <td>FAM138A</td>\n",
       "    </tr>\n",
       "    <tr>\n",
       "      <th>OR4F5</th>\n",
       "      <td>OR4F5</td>\n",
       "      <td>ENSG00000186092</td>\n",
       "      <td>OR4F5</td>\n",
       "    </tr>\n",
       "    <tr>\n",
       "      <th>AL627309.1</th>\n",
       "      <td>AL627309.1</td>\n",
       "      <td>ENSG00000238009</td>\n",
       "      <td>AL627309.1</td>\n",
       "    </tr>\n",
       "    <tr>\n",
       "      <th>AL627309.3</th>\n",
       "      <td>AL627309.3</td>\n",
       "      <td>ENSG00000239945</td>\n",
       "      <td>AL627309.3</td>\n",
       "    </tr>\n",
       "  </tbody>\n",
       "</table>\n",
       "</div>"
      ],
      "text/plain": [
       "            name-ImYoo_2023    id-ImYoo_2023 name-YoshidaM_2022\n",
       "MIR1302-2HG     MIR1302-2HG  ENSG00000243485        MIR1302-2HG\n",
       "FAM138A             FAM138A  ENSG00000237613            FAM138A\n",
       "OR4F5                 OR4F5  ENSG00000186092              OR4F5\n",
       "AL627309.1       AL627309.1  ENSG00000238009         AL627309.1\n",
       "AL627309.3       AL627309.3  ENSG00000239945         AL627309.3"
      ]
     },
     "execution_count": 43,
     "metadata": {},
     "output_type": "execute_result"
    }
   ],
   "source": [
    "adata.var.head()"
   ]
  },
  {
   "cell_type": "code",
   "execution_count": 40,
   "metadata": {},
   "outputs": [],
   "source": [
    "adata.write('../data/merged_pbmc_yoshida-imyoo_ctl230808_raw.h5ad')"
   ]
  },
  {
   "cell_type": "code",
   "execution_count": null,
   "metadata": {},
   "outputs": [],
   "source": []
  }
 ],
 "metadata": {
  "kernelspec": {
   "display_name": "Python 3.8.14 ('scvi-tools')",
   "language": "python",
   "name": "python3"
  },
  "language_info": {
   "codemirror_mode": {
    "name": "ipython",
    "version": 3
   },
   "file_extension": ".py",
   "mimetype": "text/x-python",
   "name": "python",
   "nbconvert_exporter": "python",
   "pygments_lexer": "ipython3",
   "version": "3.9.16"
  },
  "orig_nbformat": 4,
  "vscode": {
   "interpreter": {
    "hash": "be6e4b2475555bb52a1f9704f3384c4fd38c8454adf16dc700aeb2c29c9568d8"
   }
  }
 },
 "nbformat": 4,
 "nbformat_minor": 2
}
