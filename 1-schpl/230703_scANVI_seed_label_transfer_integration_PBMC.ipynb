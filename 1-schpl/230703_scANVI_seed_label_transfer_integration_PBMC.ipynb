{
 "cells": [
  {
   "attachments": {},
   "cell_type": "markdown",
   "metadata": {},
   "source": [
    "### Notebook for the label transfer of PBMCs using `scANVI`\n",
    "\n",
    "- **Developed by:** Carlos Talavera-López Ph.D\n",
    "- **Würzburg Institute for Systems Immunology & Julius-Maximilian-Universität Würzburg**\n",
    "- v230809"
   ]
  },
  {
   "attachments": {},
   "cell_type": "markdown",
   "metadata": {},
   "source": [
    "### Import required modules"
   ]
  },
  {
   "cell_type": "code",
   "execution_count": 1,
   "metadata": {},
   "outputs": [
    {
     "name": "stderr",
     "output_type": "stream",
     "text": [
      "/Users/cartalop/mambaforge/envs/scvi-tools/lib/python3.9/site-packages/scvi/_settings.py:63: UserWarning: Since v1.0.0, scvi-tools no longer uses a random seed by default. Run `scvi.settings.seed = 0` to reproduce results from previous versions.\n",
      "  self.seed = seed\n",
      "/Users/cartalop/mambaforge/envs/scvi-tools/lib/python3.9/site-packages/scvi/_settings.py:70: UserWarning: Setting `dl_pin_memory_gpu_training` is deprecated in v1.0 and will be removed in v1.1. Please pass in `pin_memory` to the data loaders instead.\n",
      "  self.dl_pin_memory_gpu_training = (\n"
     ]
    }
   ],
   "source": [
    "import scvi\n",
    "import anndata\n",
    "import warnings\n",
    "import numpy as np\n",
    "import scanpy as sc\n",
    "import pandas as pd\n",
    "import matplotlib.pyplot as plt"
   ]
  },
  {
   "attachments": {},
   "cell_type": "markdown",
   "metadata": {},
   "source": [
    "### Set up working environment"
   ]
  },
  {
   "cell_type": "code",
   "execution_count": 2,
   "metadata": {},
   "outputs": [
    {
     "name": "stdout",
     "output_type": "stream",
     "text": [
      "-----\n",
      "anndata     0.9.1\n",
      "scanpy      1.9.3\n",
      "-----\n",
      "PIL                 10.0.0\n",
      "absl                NA\n",
      "aiohttp             3.8.4\n",
      "aiosignal           1.3.1\n",
      "anyio               NA\n",
      "appnope             0.1.3\n",
      "asttokens           NA\n",
      "async_timeout       4.0.2\n",
      "attr                23.1.0\n",
      "backcall            0.2.0\n",
      "bs4                 4.12.2\n",
      "certifi             2023.05.07\n",
      "charset_normalizer  3.2.0\n",
      "chex                0.1.7\n",
      "click               8.1.4\n",
      "comm                0.1.3\n",
      "contextlib2         NA\n",
      "croniter            NA\n",
      "cycler              0.10.0\n",
      "cython_runtime      NA\n",
      "dateutil            2.8.2\n",
      "debugpy             1.6.7\n",
      "decorator           5.1.1\n",
      "deepdiff            6.3.1\n",
      "docrep              0.3.2\n",
      "etils               1.3.0\n",
      "executing           1.2.0\n",
      "fastapi             0.100.0\n",
      "flax                0.7.0\n",
      "frozenlist          1.3.3\n",
      "fsspec              2023.6.0\n",
      "h5py                3.9.0\n",
      "idna                3.4\n",
      "importlib_resources NA\n",
      "ipykernel           6.24.0\n",
      "ipywidgets          8.0.7\n",
      "jax                 0.4.13\n",
      "jaxlib              0.4.13\n",
      "jedi                0.18.2\n",
      "joblib              1.3.1\n",
      "kiwisolver          1.4.4\n",
      "lightning           2.0.4\n",
      "lightning_cloud     NA\n",
      "lightning_utilities 0.9.0\n",
      "llvmlite            0.40.1\n",
      "matplotlib          3.7.2\n",
      "ml_collections      NA\n",
      "ml_dtypes           0.2.0\n",
      "mpl_toolkits        NA\n",
      "mpmath              1.3.0\n",
      "msgpack             1.0.5\n",
      "mudata              0.2.3\n",
      "multidict           6.0.4\n",
      "multipart           0.0.6\n",
      "multipledispatch    0.6.0\n",
      "natsort             8.4.0\n",
      "numba               0.57.1\n",
      "numpy               1.24.4\n",
      "numpyro             0.12.1\n",
      "opt_einsum          v3.3.0\n",
      "optax               0.1.5\n",
      "ordered_set         4.1.0\n",
      "packaging           23.1\n",
      "pandas              2.0.3\n",
      "parso               0.8.3\n",
      "pexpect             4.8.0\n",
      "pickleshare         0.7.5\n",
      "pkg_resources       NA\n",
      "platformdirs        3.8.1\n",
      "prompt_toolkit      3.0.39\n",
      "psutil              5.9.5\n",
      "ptyprocess          0.7.0\n",
      "pure_eval           0.2.2\n",
      "pydantic            1.10.11\n",
      "pydev_ipython       NA\n",
      "pydevconsole        NA\n",
      "pydevd              2.9.5\n",
      "pydevd_file_utils   NA\n",
      "pydevd_plugins      NA\n",
      "pydevd_tracing      NA\n",
      "pygments            2.15.1\n",
      "pyparsing           3.0.9\n",
      "pyro                1.8.5\n",
      "pytz                2023.3\n",
      "requests            2.31.0\n",
      "rich                NA\n",
      "scipy               1.11.1\n",
      "scvi                1.0.2\n",
      "session_info        1.0.0\n",
      "setuptools          68.0.0\n",
      "six                 1.16.0\n",
      "sklearn             1.3.0\n",
      "sniffio             1.3.0\n",
      "soupsieve           2.4.1\n",
      "sparse              0.14.0\n",
      "stack_data          0.6.2\n",
      "starlette           0.27.0\n",
      "sympy               1.12\n",
      "threadpoolctl       3.1.0\n",
      "toolz               0.12.0\n",
      "torch               2.0.1\n",
      "torchaudio          2.0.2\n",
      "torchmetrics        1.0.0\n",
      "torchvision         0.15.2\n",
      "tornado             6.3.2\n",
      "tqdm                4.65.0\n",
      "traitlets           5.9.0\n",
      "tree                0.1.8\n",
      "typing_extensions   NA\n",
      "urllib3             2.0.3\n",
      "uvicorn             0.22.0\n",
      "wcwidth             0.2.6\n",
      "websocket           1.6.1\n",
      "websockets          11.0.3\n",
      "xarray              2023.6.0\n",
      "yaml                6.0\n",
      "yarl                1.9.2\n",
      "zipp                NA\n",
      "zmq                 25.1.0\n",
      "zoneinfo            NA\n",
      "-----\n",
      "IPython             8.14.0\n",
      "jupyter_client      8.3.0\n",
      "jupyter_core        5.3.1\n",
      "-----\n",
      "Python 3.9.16 | packaged by conda-forge | (main, Feb  1 2023, 21:38:11) [Clang 14.0.6 ]\n",
      "macOS-13.4.1-arm64-arm-64bit\n",
      "-----\n",
      "Session information updated at 2023-08-09 15:41\n"
     ]
    }
   ],
   "source": [
    "sc.settings.verbosity = 3\n",
    "sc.logging.print_versions()\n",
    "sc.settings.set_figure_params(dpi = 180, color_map = 'magma_r', dpi_save = 300, vector_friendly = True, format = 'svg')"
   ]
  },
  {
   "cell_type": "code",
   "execution_count": 3,
   "metadata": {},
   "outputs": [
    {
     "name": "stderr",
     "output_type": "stream",
     "text": [
      "Global seed set to 1712\n"
     ]
    }
   ],
   "source": [
    "warnings.simplefilter(action = 'ignore')\n",
    "scvi.settings.seed = 1712\n",
    "%config InlineBackend.print_figure_kwargs = {'facecolor' : \"w\"}\n",
    "%config InlineBackend.figure_format = 'retina'"
   ]
  },
  {
   "cell_type": "code",
   "execution_count": 4,
   "metadata": {},
   "outputs": [],
   "source": [
    "arches_params = dict(\n",
    "    use_layer_norm = \"both\",\n",
    "    use_batch_norm = \"none\",\n",
    "    encode_covariates = True,\n",
    "    dropout_rate = 0.2,\n",
    "    n_layers = 2,\n",
    ")"
   ]
  },
  {
   "attachments": {},
   "cell_type": "markdown",
   "metadata": {},
   "source": [
    "### Read in Healthy data"
   ]
  },
  {
   "cell_type": "code",
   "execution_count": 12,
   "metadata": {},
   "outputs": [
    {
     "data": {
      "text/plain": [
       "AnnData object with n_obs × n_vars = 250219 × 31908\n",
       "    obs: 'donor', 'cell_states', 'sample', 'generator', 'seed_labels'\n",
       "    var: 'name-ImYoo_2023', 'id-ImYoo_2023', 'name-YoshidaM_2022'"
      ]
     },
     "execution_count": 12,
     "metadata": {},
     "output_type": "execute_result"
    }
   ],
   "source": [
    "healthy_raw = sc.read_h5ad('../data/merged_pbmc_yoshida-imyoo_ctl230808_raw.h5ad')\n",
    "healthy_raw"
   ]
  },
  {
   "attachments": {},
   "cell_type": "markdown",
   "metadata": {},
   "source": [
    "#### Select a subset of cells that are unlabeled. "
   ]
  },
  {
   "cell_type": "code",
   "execution_count": 13,
   "metadata": {},
   "outputs": [
    {
     "data": {
      "text/plain": [
       "Index([' CD14+IL6+Monocyte', ' hCD4+T ', 'AS-DC', 'Ageing_B', 'Baso/Eos',\n",
       "       'CD4+T', 'CD8+T', 'CD14+CD16+Monocytes', 'CD14+Monocyte',\n",
       "       'CD14+Monocytes', 'CD14+Monocytes-HSP_artifact', 'CD16+C1+Monocyte',\n",
       "       'CD16+Monocyte', 'CD16+Monocytes', 'CD56+NK', 'CD56_dimNK',\n",
       "       'CLL-associated_B', 'HPC', 'IFN-stim_CD14+Monocyte',\n",
       "       'IFN-stim_CD16+Monocyte', 'IFN-stim_HPC', 'IFN-stim_NK',\n",
       "       'IFN-stim_ctlCD8+T', 'IFN-stim_n-sw_memB', 'IFN-stim_naiveCD4+T',\n",
       "       'IFN-stim_naive_B', 'ILC', 'IgM_memB', 'MAIT', 'Mast', 'NK', 'NKT',\n",
       "       'RBC', 'adaptive_NK', 'asDC', 'cDC1', 'cDC2', 'cDC3', 'class_memB',\n",
       "       'cmCD8+T', 'ctlCD4+T  ', 'ctlCD8+T', 'cycling', 'emCD8+T', 'emraCD8+T',\n",
       "       'gdT', 'invarB', 'muco_invarT', 'n-sw_memB', 'naiveCD4+T', 'naiveCD8+T',\n",
       "       'naive_B', 'nan', 'pDC', 'plasma_B', 'plasmablasts', 'platelets',\n",
       "       'regT', 'sw_memB', 'tumorDC'],\n",
       "      dtype='object')"
      ]
     },
     "execution_count": 13,
     "metadata": {},
     "output_type": "execute_result"
    }
   ],
   "source": [
    "healthy_raw.obs['seed_labels'].cat.categories"
   ]
  },
  {
   "cell_type": "code",
   "execution_count": 14,
   "metadata": {},
   "outputs": [],
   "source": [
    "if pd.api.types.is_categorical_dtype(healthy_raw.obs['seed_labels']):\n",
    "    healthy_raw.obs['seed_labels'] = healthy_raw.obs['seed_labels'].astype(str)\n",
    "\n",
    "healthy_raw.obs['seed_labels'].replace('nan', 'Unknown', inplace = True)\n",
    "healthy_raw.obs['seed_labels'] = healthy_raw.obs['seed_labels'].astype('category')"
   ]
  },
  {
   "cell_type": "code",
   "execution_count": 15,
   "metadata": {},
   "outputs": [
    {
     "data": {
      "text/plain": [
       "Index([' CD14+IL6+Monocyte', ' hCD4+T ', 'AS-DC', 'Ageing_B', 'Baso/Eos',\n",
       "       'CD14+CD16+Monocytes', 'CD14+Monocyte', 'CD14+Monocytes',\n",
       "       'CD14+Monocytes-HSP_artifact', 'CD16+C1+Monocyte', 'CD16+Monocyte',\n",
       "       'CD16+Monocytes', 'CD4+T', 'CD56+NK', 'CD56_dimNK', 'CD8+T',\n",
       "       'CLL-associated_B', 'HPC', 'IFN-stim_CD14+Monocyte',\n",
       "       'IFN-stim_CD16+Monocyte', 'IFN-stim_HPC', 'IFN-stim_NK',\n",
       "       'IFN-stim_ctlCD8+T', 'IFN-stim_n-sw_memB', 'IFN-stim_naiveCD4+T',\n",
       "       'IFN-stim_naive_B', 'ILC', 'IgM_memB', 'MAIT', 'Mast', 'NK', 'NKT',\n",
       "       'RBC', 'Unknown', 'adaptive_NK', 'asDC', 'cDC1', 'cDC2', 'cDC3',\n",
       "       'class_memB', 'cmCD8+T', 'ctlCD4+T  ', 'ctlCD8+T', 'cycling', 'emCD8+T',\n",
       "       'emraCD8+T', 'gdT', 'invarB', 'muco_invarT', 'n-sw_memB', 'naiveCD4+T',\n",
       "       'naiveCD8+T', 'naive_B', 'pDC', 'plasma_B', 'plasmablasts', 'platelets',\n",
       "       'regT', 'sw_memB', 'tumorDC'],\n",
       "      dtype='object')"
      ]
     },
     "execution_count": 15,
     "metadata": {},
     "output_type": "execute_result"
    }
   ],
   "source": [
    "healthy_raw.obs['seed_labels'].cat.categories"
   ]
  },
  {
   "cell_type": "markdown",
   "metadata": {},
   "source": [
    "### Select highly variable genes"
   ]
  },
  {
   "cell_type": "code",
   "execution_count": 17,
   "metadata": {},
   "outputs": [
    {
     "name": "stdout",
     "output_type": "stream",
     "text": [
      "If you pass `n_top_genes`, all cutoffs are ignored.\n",
      "extracting highly variable genes\n",
      "--> added\n",
      "    'highly_variable', boolean vector (adata.var)\n",
      "    'highly_variable_rank', float vector (adata.var)\n",
      "    'means', float vector (adata.var)\n",
      "    'variances', float vector (adata.var)\n",
      "    'variances_norm', float vector (adata.var)\n"
     ]
    },
    {
     "data": {
      "text/plain": [
       "AnnData object with n_obs × n_vars = 250219 × 7000\n",
       "    obs: 'donor', 'cell_states', 'sample', 'generator', 'seed_labels'\n",
       "    var: 'name-ImYoo_2023', 'id-ImYoo_2023', 'name-YoshidaM_2022', 'highly_variable', 'highly_variable_rank', 'means', 'variances', 'variances_norm', 'highly_variable_nbatches'\n",
       "    uns: 'hvg'\n",
       "    layers: 'counts'"
      ]
     },
     "execution_count": 17,
     "metadata": {},
     "output_type": "execute_result"
    }
   ],
   "source": [
    "adata_raw = healthy_raw.copy()\n",
    "adata = healthy_raw.copy()\n",
    "adata.layers['counts'] = adata.X.copy()\n",
    "\n",
    "sc.pp.highly_variable_genes(\n",
    "    adata,\n",
    "    flavor = \"seurat_v3\",\n",
    "    n_top_genes = 7000,\n",
    "    layer = \"counts\",\n",
    "    batch_key = \"donor\",\n",
    "    subset = True\n",
    ")\n",
    "adata"
   ]
  },
  {
   "attachments": {},
   "cell_type": "markdown",
   "metadata": {},
   "source": [
    "### Transfer of annotation with scANVI"
   ]
  },
  {
   "cell_type": "code",
   "execution_count": 18,
   "metadata": {},
   "outputs": [],
   "source": [
    "scvi.model.SCVI.setup_anndata(adata, batch_key = 'donor', labels_key = \"seed_labels\")"
   ]
  },
  {
   "cell_type": "code",
   "execution_count": 19,
   "metadata": {},
   "outputs": [],
   "source": [
    "scvi_model = scvi.model.SCVI(adata, n_latent = 50, n_layers = 3, dispersion = 'gene-batch', gene_likelihood = 'nb')"
   ]
  },
  {
   "cell_type": "code",
   "execution_count": 21,
   "metadata": {},
   "outputs": [
    {
     "name": "stderr",
     "output_type": "stream",
     "text": [
      "GPU available: True (mps), used: False\n",
      "TPU available: False, using: 0 TPU cores\n",
      "IPU available: False, using: 0 IPUs\n",
      "HPU available: False, using: 0 HPUs\n"
     ]
    },
    {
     "name": "stdout",
     "output_type": "stream",
     "text": [
      "Epoch 2/32:   3%|▎         | 1/32 [02:31<1:18:30, 151.96s/it, v_num=1, train_loss_step=1.99e+3, train_loss_epoch=2.1e+3]"
     ]
    }
   ],
   "source": [
    "scvi_model.train(use_gpu = False)"
   ]
  },
  {
   "attachments": {},
   "cell_type": "markdown",
   "metadata": {},
   "source": [
    "### Label transfer with `scANVI` "
   ]
  },
  {
   "cell_type": "code",
   "execution_count": null,
   "metadata": {},
   "outputs": [],
   "source": [
    "scanvi_model = scvi.model.SCANVI.from_scvi_model(scvi_model, 'Unknown')"
   ]
  },
  {
   "cell_type": "code",
   "execution_count": null,
   "metadata": {},
   "outputs": [],
   "source": [
    "scanvi_model.train(use_gpu = False)"
   ]
  },
  {
   "cell_type": "code",
   "execution_count": null,
   "metadata": {},
   "outputs": [],
   "source": [
    "adata.obs[\"C_scANVI\"] = scanvi_model.predict(adata)"
   ]
  },
  {
   "attachments": {},
   "cell_type": "markdown",
   "metadata": {},
   "source": [
    "- Extract latent representation"
   ]
  },
  {
   "cell_type": "code",
   "execution_count": null,
   "metadata": {},
   "outputs": [],
   "source": [
    "adata.obsm[\"X_scANVI\"] = scanvi_model.get_latent_representation(adata)"
   ]
  },
  {
   "attachments": {},
   "cell_type": "markdown",
   "metadata": {},
   "source": [
    "- Visualise corrected dataset"
   ]
  },
  {
   "cell_type": "code",
   "execution_count": null,
   "metadata": {},
   "outputs": [],
   "source": [
    "sc.pp.neighbors(adata, use_rep = \"X_scANVI\", n_neighbors = 50, metric = 'minkowski')\n",
    "sc.tl.umap(adata, min_dist = 0.3, spread = 4, random_state = 1712)\n",
    "sc.pl.umap(adata, frameon = False, color = ['donor', 'cell_states', 'sample', 'generator', 'seed_labels'], size = 1, legend_fontsize = 5, ncols = 3)"
   ]
  },
  {
   "attachments": {},
   "cell_type": "markdown",
   "metadata": {},
   "source": [
    "### Export annotated object"
   ]
  },
  {
   "cell_type": "code",
   "execution_count": null,
   "metadata": {},
   "outputs": [],
   "source": [
    "SCC0120_1_pbmc_annotated = adata[adata.obs['group'].isin(['SCC0120_1_pbmc'])]\n",
    "SCC0120_1_pbmc_annotated"
   ]
  },
  {
   "cell_type": "code",
   "execution_count": null,
   "metadata": {},
   "outputs": [],
   "source": [
    "SCC0120_1_pbmc_annotated.obs = SCC0120_1_pbmc_annotated.obs[['orig.ident', 'Age_group', 'BMI', 'COVID_severity', 'COVID_status', 'Ethnicity', 'Group', 'Sex', 'annotation_broad', 'annotation_detailed', 'sample_id', 'seed_labels', 'donor', 'cell_states', 'nCount_RNA', 'nFeature_RNA', 'nCount_HTO', 'nFeature_HTO', 'nCount_CITE', 'nFeature_CITE', 'nCount_PROT', 'nFeature_PROT', 'percent.mt', 'sample', 'HTO_maxID', 'HTO_secondID', 'HTO_margin', 'HTO_classification', 'HTO_classification.global', 'hash.ID', 'tissue', 'condition', 'n_genes', 'doublet_scores', 'hashtag', 'unique', 'group', 'batch', 'n_genes_by_counts', 'total_counts', 'total_counts_mt', 'pct_counts_mt', 'total_counts_ribo', 'pct_counts_ribo', 'percent_mt2', 'n_counts', 'percent_chrY', 'S_score', 'G2M_score', '_scvi_batch', '_scvi_labels', 'C_scANVI']]\n",
    "SCC0120_1_pbmc_annotated"
   ]
  },
  {
   "cell_type": "code",
   "execution_count": null,
   "metadata": {},
   "outputs": [],
   "source": [
    "SCC0120_1_pbmc_annotated.write('../data/SCC0120_1_PBMC_scANVI_annot_ctl230702.h5ad')"
   ]
  }
 ],
 "metadata": {
  "kernelspec": {
   "display_name": "Python 3.8.14 ('scvi-tools')",
   "language": "python",
   "name": "python3"
  },
  "language_info": {
   "codemirror_mode": {
    "name": "ipython",
    "version": 3
   },
   "file_extension": ".py",
   "mimetype": "text/x-python",
   "name": "python",
   "nbconvert_exporter": "python",
   "pygments_lexer": "ipython3",
   "version": "3.9.16"
  },
  "orig_nbformat": 4,
  "vscode": {
   "interpreter": {
    "hash": "be6e4b2475555bb52a1f9704f3384c4fd38c8454adf16dc700aeb2c29c9568d8"
   }
  }
 },
 "nbformat": 4,
 "nbformat_minor": 2
}
